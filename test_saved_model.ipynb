{
 "cells": [
  {
   "cell_type": "code",
   "execution_count": 1,
   "id": "29e97d11",
   "metadata": {},
   "outputs": [],
   "source": [
    "import tensorflow as tf\n",
    "from tensorflow.keras.models import load_model\n",
    "from tensorflow.keras.preprocessing.image import ImageDataGenerator \n",
    "from tensorflow.keras import layers\n",
    "import pathlib\n",
    "import PIL\n",
    "import PIL.Image\n",
    "import numpy as np"
   ]
  },
  {
   "cell_type": "code",
   "execution_count": 2,
   "id": "b800ca3d",
   "metadata": {},
   "outputs": [],
   "source": [
    "model_dir = \"my_model/1/\""
   ]
  },
  {
   "cell_type": "code",
   "execution_count": 3,
   "id": "63c5cd0d",
   "metadata": {},
   "outputs": [
    {
     "name": "stderr",
     "output_type": "stream",
     "text": [
      "2022-06-10 12:06:03.259012: I tensorflow/core/common_runtime/pluggable_device/pluggable_device_factory.cc:305] Could not identify NUMA node of platform GPU ID 0, defaulting to 0. Your kernel may not have been built with NUMA support.\n",
      "2022-06-10 12:06:03.259101: I tensorflow/core/common_runtime/pluggable_device/pluggable_device_factory.cc:271] Created TensorFlow device (/job:localhost/replica:0/task:0/device:GPU:0 with 0 MB memory) -> physical PluggableDevice (device: 0, name: METAL, pci bus id: <undefined>)\n"
     ]
    },
    {
     "name": "stdout",
     "output_type": "stream",
     "text": [
      "Metal device set to: Apple M1\n"
     ]
    }
   ],
   "source": [
    "# import load_model\n",
    "\n",
    "# give the path to model directory to load the model\n",
    "loaded_model = load_model('my_model/1/')"
   ]
  },
  {
   "cell_type": "code",
   "execution_count": 4,
   "id": "4f979652",
   "metadata": {},
   "outputs": [],
   "source": [
    "def get_image_prediction(image,img_height = 224,img_width = 224):\n",
    "    img = tf.keras.utils.load_img(image, target_size=(img_height, img_width))\n",
    "    img_array = tf.keras.utils.img_to_array(img)\n",
    "    img_array = tf.expand_dims(img_array, 0)\n",
    "    predictions =loaded_model.predict(img_array)\n",
    "    score = tf.nn.softmax(predictions[0])\n",
    "    class_prediction = class_names[np.argmax(score)]\n",
    "    #model_score = round(max(score) * 100, 2)\n",
    "    return{\n",
    "    \"model_prediction_class\": class_prediction,\n",
    "    #\"model_prediction_score\": model_score,\n",
    "    }"
   ]
  },
  {
   "cell_type": "code",
   "execution_count": 5,
   "id": "33d9db79",
   "metadata": {},
   "outputs": [
    {
     "name": "stderr",
     "output_type": "stream",
     "text": [
      "2022-06-10 12:06:10.732598: W tensorflow/core/platform/profile_utils/cpu_utils.cc:128] Failed to get CPU frequency: 0 Hz\n",
      "2022-06-10 12:06:10.892324: I tensorflow/core/grappler/optimizers/custom_graph_optimizer_registry.cc:113] Plugin optimizer for device_type GPU is enabled.\n"
     ]
    },
    {
     "name": "stdout",
     "output_type": "stream",
     "text": [
      "1/1 [==============================] - 0s 334ms/step\n"
     ]
    },
    {
     "data": {
      "text/plain": [
       "{'model_prediction_class': 'OK'}"
      ]
     },
     "execution_count": 5,
     "metadata": {},
     "output_type": "execute_result"
    }
   ],
   "source": [
    "data_dir = pathlib.Path('dataset')\n",
    "class_names=['NG','OK']\n",
    "result=get_image_prediction(list(data_dir.glob('NG/*'))[1])\n",
    "result"
   ]
  },
  {
   "cell_type": "code",
   "execution_count": null,
   "id": "681b29f3",
   "metadata": {},
   "outputs": [],
   "source": []
  }
 ],
 "metadata": {
  "kernelspec": {
   "display_name": "tf26",
   "language": "python",
   "name": "tf26"
  },
  "language_info": {
   "codemirror_mode": {
    "name": "ipython",
    "version": 3
   },
   "file_extension": ".py",
   "mimetype": "text/x-python",
   "name": "python",
   "nbconvert_exporter": "python",
   "pygments_lexer": "ipython3",
   "version": "3.9.0"
  }
 },
 "nbformat": 4,
 "nbformat_minor": 5
}
